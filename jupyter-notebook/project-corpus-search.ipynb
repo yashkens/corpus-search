{
 "cells": [
  {
   "cell_type": "code",
   "execution_count": 307,
   "metadata": {},
   "outputs": [],
   "source": [
    "import os\n",
    "from nltk import sent_tokenize\n",
    "from gensim.utils import simple_preprocess\n",
    "from pymorphy2.tokenizers import simple_word_tokenize\n",
    "import pymorphy2\n",
    "morph = pymorphy2.MorphAnalyzer()\n",
    "import pandas as pd\n",
    "import re\n",
    "from itertools import product"
   ]
  },
  {
   "cell_type": "markdown",
   "metadata": {},
   "source": [
    "#### Создание словаря с предложениями, их разбором и источником"
   ]
  },
  {
   "cell_type": "code",
   "execution_count": 9,
   "metadata": {},
   "outputs": [],
   "source": [
    "names = []\n",
    "sents = []\n",
    "lemma_seq = []\n",
    "pos_seq = []"
   ]
  },
  {
   "cell_type": "code",
   "execution_count": 10,
   "metadata": {},
   "outputs": [],
   "source": [
    "directory = 'C:\\\\Users\\\\Yana\\\\Desktop\\\\project\\\\corpus'\n",
    "walk = [(x, y, z) for x, y, z in os.walk(directory)]\n",
    "\n",
    "for root, dirs, files in walk:\n",
    "    for f in files:\n",
    "        f_path = os.path.join(root, f) \n",
    "        with open(f_path, 'r', encoding='utf-8') as f:\n",
    "            text = f.read()\n",
    "            \n",
    "        name_num = text.find('\\n')\n",
    "        name = text[:name_num]\n",
    "        \n",
    "        sentences = sent_tokenize(text)\n",
    "        sents.extend(sentences)\n",
    "        \n",
    "        for sent in sentences:\n",
    "            tokens = simple_word_tokenize(sent)\n",
    "            lemmas = []\n",
    "            pos = []\n",
    "            for word in tokens:\n",
    "                if word[0].isalpha():\n",
    "                    lemmas.append(str(morph.parse(word)[0].normal_form))\n",
    "                    pos.append(str(morph.parse(word)[0].tag.POS))\n",
    "            lemma_seq.append(' '.join(lemmas))\n",
    "            pos_seq.append(' '.join(pos))\n",
    "            names.append(name)"
   ]
  },
  {
   "cell_type": "code",
   "execution_count": 11,
   "metadata": {},
   "outputs": [
    {
     "data": {
      "text/plain": [
       "(127857, 127857, 127857, 127857)"
      ]
     },
     "execution_count": 11,
     "metadata": {},
     "output_type": "execute_result"
    }
   ],
   "source": [
    "len(names), len(sents), len(lemma_seq), len(pos_seq)"
   ]
  },
  {
   "cell_type": "code",
   "execution_count": 12,
   "metadata": {},
   "outputs": [],
   "source": [
    "main_dict = {'source': names, 'sents': sents, 'lemmas': lemma_seq, 'pos':pos_seq}"
   ]
  },
  {
   "cell_type": "markdown",
   "metadata": {},
   "source": [
    "#### Запись словаря в файл csv, чтобы потом больше не ждать\n",
    "Файл используется только в коде с раширением .py"
   ]
  },
  {
   "cell_type": "code",
   "execution_count": 38,
   "metadata": {},
   "outputs": [
    {
     "data": {
      "text/html": [
       "<div>\n",
       "<style scoped>\n",
       "    .dataframe tbody tr th:only-of-type {\n",
       "        vertical-align: middle;\n",
       "    }\n",
       "\n",
       "    .dataframe tbody tr th {\n",
       "        vertical-align: top;\n",
       "    }\n",
       "\n",
       "    .dataframe thead th {\n",
       "        text-align: right;\n",
       "    }\n",
       "</style>\n",
       "<table border=\"1\" class=\"dataframe\">\n",
       "  <thead>\n",
       "    <tr style=\"text-align: right;\">\n",
       "      <th></th>\n",
       "      <th>source</th>\n",
       "      <th>sents</th>\n",
       "      <th>lemmas</th>\n",
       "      <th>pos</th>\n",
       "    </tr>\n",
       "  </thead>\n",
       "  <tbody>\n",
       "    <tr>\n",
       "      <th>0</th>\n",
       "      <td>\"3 - глава 14\" Кикиморра</td>\n",
       "      <td>\"3 - глава 14\" Кикиморра\\n\\n\\n\\n   Глава 14.</td>\n",
       "      <td>глава кикиморра глава</td>\n",
       "      <td>NOUN NOUN NOUN</td>\n",
       "    </tr>\n",
       "    <tr>\n",
       "      <th>1</th>\n",
       "      <td>\"3 - глава 14\" Кикиморра</td>\n",
       "      <td>-- Азамат, я надеюсь, ты понимаешь, что это та...</td>\n",
       "      <td>азамат я надеяться ты понимать что это так ост...</td>\n",
       "      <td>NOUN NPRO VERB NPRO VERB CONJ PRCL CONJ INFN P...</td>\n",
       "    </tr>\n",
       "    <tr>\n",
       "      <th>2</th>\n",
       "      <td>\"3 - глава 14\" Кикиморра</td>\n",
       "      <td>-- Что именно?</td>\n",
       "      <td>что именно</td>\n",
       "      <td>CONJ PRCL</td>\n",
       "    </tr>\n",
       "    <tr>\n",
       "      <th>3</th>\n",
       "      <td>\"3 - глава 14\" Кикиморра</td>\n",
       "      <td>-- расеянно уточняет муж.</td>\n",
       "      <td>расеянный уточнять муж</td>\n",
       "      <td>ADJS VERB NOUN</td>\n",
       "    </tr>\n",
       "    <tr>\n",
       "      <th>4</th>\n",
       "      <td>\"3 - глава 14\" Кикиморра</td>\n",
       "      <td>-- Ситуацию с приютами.</td>\n",
       "      <td>ситуация с приют</td>\n",
       "      <td>NOUN PREP NOUN</td>\n",
       "    </tr>\n",
       "  </tbody>\n",
       "</table>\n",
       "</div>"
      ],
      "text/plain": [
       "                     source  \\\n",
       "0  \"3 - глава 14\" Кикиморра   \n",
       "1  \"3 - глава 14\" Кикиморра   \n",
       "2  \"3 - глава 14\" Кикиморра   \n",
       "3  \"3 - глава 14\" Кикиморра   \n",
       "4  \"3 - глава 14\" Кикиморра   \n",
       "\n",
       "                                               sents  \\\n",
       "0       \"3 - глава 14\" Кикиморра\\n\\n\\n\\n   Глава 14.   \n",
       "1  -- Азамат, я надеюсь, ты понимаешь, что это та...   \n",
       "2                                     -- Что именно?   \n",
       "3                          -- расеянно уточняет муж.   \n",
       "4                            -- Ситуацию с приютами.   \n",
       "\n",
       "                                              lemmas  \\\n",
       "0                              глава кикиморра глава   \n",
       "1  азамат я надеяться ты понимать что это так ост...   \n",
       "2                                         что именно   \n",
       "3                             расеянный уточнять муж   \n",
       "4                                   ситуация с приют   \n",
       "\n",
       "                                                 pos  \n",
       "0                                     NOUN NOUN NOUN  \n",
       "1  NOUN NPRO VERB NPRO VERB CONJ PRCL CONJ INFN P...  \n",
       "2                                          CONJ PRCL  \n",
       "3                                     ADJS VERB NOUN  \n",
       "4                                     NOUN PREP NOUN  "
      ]
     },
     "execution_count": 38,
     "metadata": {},
     "output_type": "execute_result"
    }
   ],
   "source": [
    "df = pd.DataFrame()\n",
    "df['source'] = names\n",
    "df['sents'] = sents\n",
    "df['lemmas'] = lemma_seq\n",
    "df['pos'] = pos_seq\n",
    "df.head()"
   ]
  },
  {
   "cell_type": "code",
   "execution_count": 70,
   "metadata": {},
   "outputs": [],
   "source": [
    "df = df.dropna()"
   ]
  },
  {
   "cell_type": "code",
   "execution_count": 79,
   "metadata": {},
   "outputs": [],
   "source": [
    "df2 = df\n",
    "df2.to_csv('corpus.csv')"
   ]
  },
  {
   "cell_type": "markdown",
   "metadata": {},
   "source": [
    "#### Функция собирает слова в предложении по модели токен|лемма|POS\n",
    "Так можно будет искать все типы запросов в одной функции"
   ]
  },
  {
   "cell_type": "code",
   "execution_count": 14,
   "metadata": {},
   "outputs": [],
   "source": [
    "def combine_sent(sent, lemma_seq, pos_seq):\n",
    "    tokens = simple_word_tokenize(sent)\n",
    "    norm_tokens = [token for token in tokens if token[0].isalpha()]\n",
    "    lemmas = lemma_seq.split()\n",
    "    pos = pos_seq.split()\n",
    "    combined_list = []\n",
    "    for i in range(len(pos)):\n",
    "        combined_list.append(' ' + norm_tokens[i] + '|' + lemmas[i] + '|' + pos[i])\n",
    "    return combined_list"
   ]
  },
  {
   "cell_type": "markdown",
   "metadata": {},
   "source": [
    "#### Функция ищет предложения с словами из ввода"
   ]
  },
  {
   "cell_type": "code",
   "execution_count": 297,
   "metadata": {},
   "outputs": [],
   "source": [
    "def search_func(main_dict, ans_dict, s_words):\n",
    "    lemmas = main_dict['lemmas']\n",
    "    for j in range(len(lemmas)):\n",
    "        c_list = combine_sent(main_dict['sents'][j], main_dict['lemmas'][j], main_dict['pos'][j])\n",
    "        for i in range(len(c_list)-len(s_words)+1):\n",
    "            if s_words[0] in c_list[i]:\n",
    "                if len(s_words) > 1 and s_words[1] in c_list[i+1]:\n",
    "                    if len(s_words) == 3 and s_words[2] in c_list[i+2]:\n",
    "                        ans_dict['sents'].append(main_dict['sents'][j])\n",
    "                        ans_dict['source'].append(main_dict['source'][j])\n",
    "                        key_words = [c.split('|')[0] for c in c_list[i:i+3]]\n",
    "                        ans_dict['key_words'].append(' '.join(key_words))\n",
    "                    elif len(s_words) == 2:\n",
    "                        ans_dict['sents'].append(main_dict['sents'][j])\n",
    "                        ans_dict['source'].append(main_dict['source'][j])\n",
    "                        key_words = [c.split('|')[0] for c in c_list[i:i+2]]\n",
    "                        ans_dict['key_words'].append(' '.join(key_words))\n",
    "                elif len(s_words) == 1:\n",
    "                    ans_dict['sents'].append(main_dict['sents'][j])\n",
    "                    ans_dict['source'].append(main_dict['source'][j])\n",
    "                    key_words = c_list[i].split('|')[0]\n",
    "                    ans_dict['key_words'].append(key_words)\n",
    "    return ans_dict"
   ]
  },
  {
   "cell_type": "markdown",
   "metadata": {},
   "source": [
    "#### Функция создает все возможные комбинации слов\n",
    "Нужно, если у словоформы есть несколько лемм."
   ]
  },
  {
   "cell_type": "code",
   "execution_count": 222,
   "metadata": {},
   "outputs": [],
   "source": [
    "def make_combos(words):\n",
    "    word_combos = []\n",
    "    if len(words) == 3:\n",
    "        combos = list(product(words[0], words[1], words[2]))\n",
    "        for c in combos:\n",
    "            word_combos.append('.'.join(c))\n",
    "    elif len(words) == 2:\n",
    "        combos = list(product(words[0], words[1]))\n",
    "        for c in combos:\n",
    "            word_combos.append('.'.join(c))\n",
    "    else:\n",
    "        word_combos = words[0]\n",
    "    return word_combos"
   ]
  },
  {
   "cell_type": "markdown",
   "metadata": {},
   "source": [
    "#### Функция определяет тип слов из ввода и соединяет все функции выше"
   ]
  },
  {
   "cell_type": "code",
   "execution_count": 300,
   "metadata": {},
   "outputs": [],
   "source": [
    "def mixed_search_upd(seq, main_dict):\n",
    "    ans_dict = {'source':[], 'sents':[], 'key_words': []}\n",
    "    \n",
    "    s_words = seq.split(' ')\n",
    "    for i in range(len(s_words)):\n",
    "        if '\"' in s_words[i]:\n",
    "            s_words[i] = [' ' + s_words[i].replace('\"', '') + '|']\n",
    "        elif '+' in s_words[i]:\n",
    "            parts = s_words[i].split('+')\n",
    "            s_words[i] = [parts[0] + '|' + parts[1]]\n",
    "        elif not s_words[i].isupper():\n",
    "            normal_forms = []\n",
    "            for m in morph.parse(s_words[i]):\n",
    "                if m.normal_form not in normal_forms:\n",
    "                    normal_forms.append(m.normal_form)\n",
    "            if len(normal_forms) < 2:\n",
    "                s_words[i] = ['|' + s_words[i].lower() + '|']\n",
    "            else:\n",
    "                s_words[i] = ['|' + word + '|' for word in normal_forms]\n",
    "        else:\n",
    "            s_words[i] = [s_words[i]]\n",
    "    combos = make_combos(s_words)\n",
    "    \n",
    "    ans = []\n",
    "    for combo in combos:\n",
    "        ans_dict = search_func(main_dict, ans_dict, combo.split('.'))\n",
    "        ans.append(ans_dict)\n",
    "        \n",
    "    return ans_dict"
   ]
  },
  {
   "cell_type": "markdown",
   "metadata": {},
   "source": [
    "#### Парочка случайных примеров\n",
    "Посмотреть более красивую выдачу можно в веб приложении. Ссылка в репозитории или в таблице."
   ]
  },
  {
   "cell_type": "code",
   "execution_count": 308,
   "metadata": {},
   "outputs": [
    {
     "data": {
      "text/html": [
       "<div>\n",
       "<style scoped>\n",
       "    .dataframe tbody tr th:only-of-type {\n",
       "        vertical-align: middle;\n",
       "    }\n",
       "\n",
       "    .dataframe tbody tr th {\n",
       "        vertical-align: top;\n",
       "    }\n",
       "\n",
       "    .dataframe thead th {\n",
       "        text-align: right;\n",
       "    }\n",
       "</style>\n",
       "<table border=\"1\" class=\"dataframe\">\n",
       "  <thead>\n",
       "    <tr style=\"text-align: right;\">\n",
       "      <th></th>\n",
       "      <th>source</th>\n",
       "      <th>sents</th>\n",
       "      <th>key_words</th>\n",
       "    </tr>\n",
       "  </thead>\n",
       "  <tbody>\n",
       "    <tr>\n",
       "      <th>0</th>\n",
       "      <td>\"3 - глава 19\" Кикиморра</td>\n",
       "      <td>Кстати, я ей тут один проект предложила, она с...</td>\n",
       "      <td>один  проект</td>\n",
       "    </tr>\n",
       "    <tr>\n",
       "      <th>1</th>\n",
       "      <td>\"35. О ходьбе по кругу\" Пивницкая Елена</td>\n",
       "      <td>Точно, \"химера\" же секретный проект!</td>\n",
       "      <td>секретный  проект</td>\n",
       "    </tr>\n",
       "    <tr>\n",
       "      <th>2</th>\n",
       "      <td>\"43. О цене жизни и сделках с совестью\" Пивниц...</td>\n",
       "      <td>Там свои неписаные законы, зоны влияния и свои...</td>\n",
       "      <td>амбициозные  проекты</td>\n",
       "    </tr>\n",
       "    <tr>\n",
       "      <th>3</th>\n",
       "      <td>\"Фантастическая политика и экономика\" Карнишин...</td>\n",
       "      <td>Что за новый проект?</td>\n",
       "      <td>новый  проект</td>\n",
       "    </tr>\n",
       "    <tr>\n",
       "      <th>4</th>\n",
       "      <td>\"Когорта\" Зеленков Василий Вадимович</td>\n",
       "      <td>Без изысков, обычный имперский проект, с четко...</td>\n",
       "      <td>имперский  проект</td>\n",
       "    </tr>\n",
       "    <tr>\n",
       "      <th>5</th>\n",
       "      <td>\"Когорта\" Зеленков Василий Вадимович</td>\n",
       "      <td>Она появилась на Альфии, когда я осваивался с ...</td>\n",
       "      <td>новым  проектом</td>\n",
       "    </tr>\n",
       "    <tr>\n",
       "      <th>6</th>\n",
       "      <td>\"Когорта\" Зеленков Василий Вадимович</td>\n",
       "      <td>Я о них узнал днем позже, чем мой лорд; мы тог...</td>\n",
       "      <td>определенный  проект</td>\n",
       "    </tr>\n",
       "    <tr>\n",
       "      <th>7</th>\n",
       "      <td>\"Когорта\" Зеленков Василий Вадимович</td>\n",
       "      <td>Над каким проектом он работал перед разговором...</td>\n",
       "      <td>каким  проектом</td>\n",
       "    </tr>\n",
       "    <tr>\n",
       "      <th>8</th>\n",
       "      <td>\"Обитаемая планета\" Измайлова Кира</td>\n",
       "      <td>-- Представляю, это самое нудное, - отмахнулся...</td>\n",
       "      <td>индивидуальные  проекты</td>\n",
       "    </tr>\n",
       "    <tr>\n",
       "      <th>9</th>\n",
       "      <td>\"Обитаемая планета\" Измайлова Кира</td>\n",
       "      <td>Оно пламенело -- то ли от стыда, то ли от горд...</td>\n",
       "      <td>свой  проект</td>\n",
       "    </tr>\n",
       "  </tbody>\n",
       "</table>\n",
       "</div>"
      ],
      "text/plain": [
       "                                              source  \\\n",
       "0                           \"3 - глава 19\" Кикиморра   \n",
       "1            \"35. О ходьбе по кругу\" Пивницкая Елена   \n",
       "2  \"43. О цене жизни и сделках с совестью\" Пивниц...   \n",
       "3  \"Фантастическая политика и экономика\" Карнишин...   \n",
       "4               \"Когорта\" Зеленков Василий Вадимович   \n",
       "5               \"Когорта\" Зеленков Василий Вадимович   \n",
       "6               \"Когорта\" Зеленков Василий Вадимович   \n",
       "7               \"Когорта\" Зеленков Василий Вадимович   \n",
       "8                 \"Обитаемая планета\" Измайлова Кира   \n",
       "9                 \"Обитаемая планета\" Измайлова Кира   \n",
       "\n",
       "                                               sents                 key_words  \n",
       "0  Кстати, я ей тут один проект предложила, она с...              один  проект  \n",
       "1               Точно, \"химера\" же секретный проект!         секретный  проект  \n",
       "2  Там свои неписаные законы, зоны влияния и свои...      амбициозные  проекты  \n",
       "3                               Что за новый проект?             новый  проект  \n",
       "4  Без изысков, обычный имперский проект, с четко...         имперский  проект  \n",
       "5  Она появилась на Альфии, когда я осваивался с ...           новым  проектом  \n",
       "6  Я о них узнал днем позже, чем мой лорд; мы тог...      определенный  проект  \n",
       "7  Над каким проектом он работал перед разговором...           каким  проектом  \n",
       "8  -- Представляю, это самое нудное, - отмахнулся...   индивидуальные  проекты  \n",
       "9  Оно пламенело -- то ли от стыда, то ли от горд...              свой  проект  "
      ]
     },
     "execution_count": 308,
     "metadata": {},
     "output_type": "execute_result"
    }
   ],
   "source": [
    "ans_dict = mixed_search_upd('ADJ проект', main_dict)\n",
    "df = pd.DataFrame(ans_dict)\n",
    "df.head(10)"
   ]
  },
  {
   "cell_type": "code",
   "execution_count": 303,
   "metadata": {},
   "outputs": [],
   "source": [
    "ans_dict = mixed_search_upd('у NPRO \"проблемы\"', main_dict)"
   ]
  },
  {
   "cell_type": "code",
   "execution_count": 304,
   "metadata": {},
   "outputs": [
    {
     "data": {
      "text/html": [
       "<div>\n",
       "<style scoped>\n",
       "    .dataframe tbody tr th:only-of-type {\n",
       "        vertical-align: middle;\n",
       "    }\n",
       "\n",
       "    .dataframe tbody tr th {\n",
       "        vertical-align: top;\n",
       "    }\n",
       "\n",
       "    .dataframe thead th {\n",
       "        text-align: right;\n",
       "    }\n",
       "</style>\n",
       "<table border=\"1\" class=\"dataframe\">\n",
       "  <thead>\n",
       "    <tr style=\"text-align: right;\">\n",
       "      <th></th>\n",
       "      <th>source</th>\n",
       "      <th>sents</th>\n",
       "      <th>key_words</th>\n",
       "    </tr>\n",
       "  </thead>\n",
       "  <tbody>\n",
       "    <tr>\n",
       "      <th>0</th>\n",
       "      <td>\"Chrome Shelled Regios Хромиованный региос том...</td>\n",
       "      <td>А теперь, когда она видит, что у тебя проблемы...</td>\n",
       "      <td>у  тебя  проблемы</td>\n",
       "    </tr>\n",
       "    <tr>\n",
       "      <th>1</th>\n",
       "      <td>\"И.О. капитана. Главы 18 - 25\" Сыромятникова И...</td>\n",
       "      <td>- У тебя проблемы, Рэм?</td>\n",
       "      <td>У  тебя  проблемы</td>\n",
       "    </tr>\n",
       "    <tr>\n",
       "      <th>2</th>\n",
       "      <td>\"Сердце на ладони. Книга вторая. Сирена  и Вас...</td>\n",
       "      <td>- У нас проблемы.</td>\n",
       "      <td>У  нас  проблемы</td>\n",
       "    </tr>\n",
       "  </tbody>\n",
       "</table>\n",
       "</div>"
      ],
      "text/plain": [
       "                                              source  \\\n",
       "0  \"Chrome Shelled Regios Хромиованный региос том...   \n",
       "1  \"И.О. капитана. Главы 18 - 25\" Сыромятникова И...   \n",
       "2  \"Сердце на ладони. Книга вторая. Сирена  и Вас...   \n",
       "\n",
       "                                               sents           key_words  \n",
       "0  А теперь, когда она видит, что у тебя проблемы...   у  тебя  проблемы  \n",
       "1                            - У тебя проблемы, Рэм?   У  тебя  проблемы  \n",
       "2                                  - У нас проблемы.    У  нас  проблемы  "
      ]
     },
     "execution_count": 304,
     "metadata": {},
     "output_type": "execute_result"
    }
   ],
   "source": [
    "df = pd.DataFrame(ans_dict)\n",
    "df.head(10)"
   ]
  },
  {
   "cell_type": "code",
   "execution_count": 137,
   "metadata": {},
   "outputs": [],
   "source": []
  }
 ],
 "metadata": {
  "kernelspec": {
   "display_name": "Python 3",
   "language": "python",
   "name": "python3"
  },
  "language_info": {
   "codemirror_mode": {
    "name": "ipython",
    "version": 3
   },
   "file_extension": ".py",
   "mimetype": "text/x-python",
   "name": "python",
   "nbconvert_exporter": "python",
   "pygments_lexer": "ipython3",
   "version": "3.7.3"
  }
 },
 "nbformat": 4,
 "nbformat_minor": 2
}
